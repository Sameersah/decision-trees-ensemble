{
  "nbformat": 4,
  "nbformat_minor": 0,
  "metadata": {
    "colab": {
      "provenance": [],
      "authorship_tag": "ABX9TyMOzga46xwiKu4xXWOkuEak",
      "include_colab_link": true
    },
    "kernelspec": {
      "name": "python3",
      "display_name": "Python 3"
    },
    "language_info": {
      "name": "python"
    }
  },
  "cells": [
    {
      "cell_type": "markdown",
      "metadata": {
        "id": "view-in-github",
        "colab_type": "text"
      },
      "source": [
        "<a href=\"https://colab.research.google.com/github/Sameersah/decision-trees-ensemble/blob/main/Decision_Tree.ipynb\" target=\"_parent\"><img src=\"https://colab.research.google.com/assets/colab-badge.svg\" alt=\"Open In Colab\"/></a>"
      ]
    },
    {
      "cell_type": "markdown",
      "source": [
        "Decision Tree Implementation\n",
        "\n",
        "Decision trees split data recursively to minimize impurity (e.g., Gini index or entropy).\n",
        "\n",
        "Steps:\n",
        "Calculate Impurity: Use criteria like Gini impurity or entropy.\n",
        "Split Data: Find the best feature and threshold to split the data.\n",
        "Build Tree: Recursively split until a stopping condition (e.g., max depth or no improvement).\n",
        "Make Predictions: Traverse the tree for predictions."
      ],
      "metadata": {
        "id": "pA-ADRLOyFl1"
      }
    },
    {
      "cell_type": "code",
      "execution_count": 2,
      "metadata": {
        "colab": {
          "base_uri": "https://localhost:8080/",
          "height": 216
        },
        "id": "oavhWVUGyFID",
        "outputId": "b9174ad1-3434-4404-facc-ae9004bc35c5"
      },
      "outputs": [
        {
          "output_type": "error",
          "ename": "NameError",
          "evalue": "name 'X_train' is not defined",
          "traceback": [
            "\u001b[0;31m---------------------------------------------------------------------------\u001b[0m",
            "\u001b[0;31mNameError\u001b[0m                                 Traceback (most recent call last)",
            "\u001b[0;32m<ipython-input-2-5cfd2e89b6ae>\u001b[0m in \u001b[0;36m<cell line: 60>\u001b[0;34m()\u001b[0m\n\u001b[1;32m     58\u001b[0m \u001b[0;31m# Demonstration\u001b[0m\u001b[0;34m\u001b[0m\u001b[0;34m\u001b[0m\u001b[0m\n\u001b[1;32m     59\u001b[0m \u001b[0mdt\u001b[0m \u001b[0;34m=\u001b[0m \u001b[0mDecisionTree\u001b[0m\u001b[0;34m(\u001b[0m\u001b[0mmax_depth\u001b[0m\u001b[0;34m=\u001b[0m\u001b[0;36m3\u001b[0m\u001b[0;34m)\u001b[0m\u001b[0;34m\u001b[0m\u001b[0;34m\u001b[0m\u001b[0m\n\u001b[0;32m---> 60\u001b[0;31m \u001b[0mdt\u001b[0m\u001b[0;34m.\u001b[0m\u001b[0mfit\u001b[0m\u001b[0;34m(\u001b[0m\u001b[0mX_train\u001b[0m\u001b[0;34m,\u001b[0m \u001b[0my_train\u001b[0m\u001b[0;34m)\u001b[0m\u001b[0;34m\u001b[0m\u001b[0;34m\u001b[0m\u001b[0m\n\u001b[0m\u001b[1;32m     61\u001b[0m \u001b[0my_pred_dt\u001b[0m \u001b[0;34m=\u001b[0m \u001b[0mdt\u001b[0m\u001b[0;34m.\u001b[0m\u001b[0mpredict\u001b[0m\u001b[0;34m(\u001b[0m\u001b[0mX_test\u001b[0m\u001b[0;34m)\u001b[0m\u001b[0;34m\u001b[0m\u001b[0;34m\u001b[0m\u001b[0m\n\u001b[1;32m     62\u001b[0m \u001b[0mprint\u001b[0m\u001b[0;34m(\u001b[0m\u001b[0;34m\"Decision Tree Accuracy:\"\u001b[0m\u001b[0;34m,\u001b[0m \u001b[0maccuracy_score\u001b[0m\u001b[0;34m(\u001b[0m\u001b[0my_test\u001b[0m\u001b[0;34m,\u001b[0m \u001b[0my_pred_dt\u001b[0m\u001b[0;34m)\u001b[0m\u001b[0;34m)\u001b[0m\u001b[0;34m\u001b[0m\u001b[0;34m\u001b[0m\u001b[0m\n",
            "\u001b[0;31mNameError\u001b[0m: name 'X_train' is not defined"
          ]
        }
      ],
      "source": [
        "class DecisionTree:\n",
        "    def __init__(self, max_depth=None):\n",
        "        self.max_depth = max_depth\n",
        "        self.tree = None\n",
        "\n",
        "    def fit(self, X, y):\n",
        "        self.tree = self._build_tree(X, y)\n",
        "\n",
        "    def _build_tree(self, X, y, depth=0):\n",
        "        n_samples, n_features = X.shape\n",
        "        if n_samples == 0 or depth == self.max_depth:\n",
        "            return np.mean(y)\n",
        "\n",
        "        # Find best split\n",
        "        best_feature, best_threshold = self._find_best_split(X, y)\n",
        "        if best_feature is None:\n",
        "            return np.mean(y)\n",
        "\n",
        "        # Split data\n",
        "        left_mask = X[:, best_feature] < best_threshold\n",
        "        right_mask = ~left_mask\n",
        "        left_tree = self._build_tree(X[left_mask], y[left_mask], depth + 1)\n",
        "        right_tree = self._build_tree(X[right_mask], y[right_mask], depth + 1)\n",
        "\n",
        "        return {\"feature\": best_feature, \"threshold\": best_threshold, \"left\": left_tree, \"right\": right_tree}\n",
        "\n",
        "    def _find_best_split(self, X, y):\n",
        "        best_feature, best_threshold, best_impurity = None, None, float(\"inf\")\n",
        "        for feature in range(X.shape[1]):\n",
        "            thresholds = np.unique(X[:, feature])\n",
        "            for threshold in thresholds:\n",
        "                left_mask = X[:, feature] < threshold\n",
        "                right_mask = ~left_mask\n",
        "                impurity = self._gini_impurity(y[left_mask], y[right_mask])\n",
        "                if impurity < best_impurity:\n",
        "                    best_impurity = impurity\n",
        "                    best_feature = feature\n",
        "                    best_threshold = threshold\n",
        "        return best_feature, best_threshold\n",
        "\n",
        "    def _gini_impurity(self, left, right):\n",
        "        def gini(group):\n",
        "            proportions = np.bincount(group) / len(group)\n",
        "            return 1 - np.sum(proportions ** 2)\n",
        "        return (len(left) * gini(left) + len(right) * gini(right)) / (len(left) + len(right))\n",
        "\n",
        "    def predict(self, X):\n",
        "        def traverse(x, tree):\n",
        "            if not isinstance(tree, dict):\n",
        "                return tree\n",
        "            if x[tree[\"feature\"]] < tree[\"threshold\"]:\n",
        "                return traverse(x, tree[\"left\"])\n",
        "            else:\n",
        "                return traverse(x, tree[\"right\"])\n",
        "\n",
        "        return np.array([traverse(x, self.tree) for x in X])\n",
        "\n",
        "# Demonstration\n",
        "dt = DecisionTree(max_depth=3)\n",
        "dt.fit(X_train, y_train)\n",
        "y_pred_dt = dt.predict(X_test)\n",
        "print(\"Decision Tree Accuracy:\", accuracy_score(y_test, y_pred_dt))\n"
      ]
    }
  ]
}