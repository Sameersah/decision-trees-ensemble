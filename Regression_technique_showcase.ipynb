{
  "nbformat": 4,
  "nbformat_minor": 0,
  "metadata": {
    "colab": {
      "provenance": [],
      "authorship_tag": "ABX9TyNPL/+aUcedo+pmtoivDWCl",
      "include_colab_link": true
    },
    "kernelspec": {
      "name": "python3",
      "display_name": "Python 3"
    },
    "language_info": {
      "name": "python"
    }
  },
  "cells": [
    {
      "cell_type": "markdown",
      "metadata": {
        "id": "view-in-github",
        "colab_type": "text"
      },
      "source": [
        "<a href=\"https://colab.research.google.com/github/Sameersah/decision-trees-ensemble/blob/main/Regression_technique_showcase.ipynb\" target=\"_parent\"><img src=\"https://colab.research.google.com/assets/colab-badge.svg\" alt=\"Open In Colab\"/></a>"
      ]
    },
    {
      "cell_type": "markdown",
      "source": [
        "# Regression Technique Showcase"
      ],
      "metadata": {
        "id": "ynDbdH1Ulnps"
      }
    },
    {
      "cell_type": "code",
      "execution_count": null,
      "metadata": {
        "id": "gPNb9dLllis-"
      },
      "outputs": [],
      "source": [
        "import pandas as pd\n",
        "import numpy as np\n",
        "import matplotlib.pyplot as plt\n",
        "import seaborn as sns\n",
        "\n",
        "from sklearn.model_selection import train_test_split\n",
        "from sklearn.metrics import mean_squared_error, mean_absolute_error, r2_score\n",
        "\n",
        "import xgboost as xgb\n",
        "import catboost as catb\n",
        "import lightgbm as lgb\n",
        "\n",
        "# Load a regression dataset (e.g., Boston Housing)\n",
        "from sklearn.datasets import load_boston\n",
        "boston = load_boston()\n",
        "X, y = boston.data, boston.target\n",
        "\n",
        "# Split the dataset into training and testing sets\n",
        "X_train, X_test, y_train, y_test = train_test_split(X, y, test_size=0.2, random_state=42)\n",
        "\n",
        "# XGBoost Regression\n",
        "xgb_reg = xgb.XGBRegressor()\n",
        "xgb_reg.fit(X_train, y_train)\n",
        "xgb_preds = xgb_reg.predict(X_test)\n",
        "\n",
        "# Evaluate performance\n",
        "print(\"XGBoost Regression:\")\n",
        "print(\"Mean Squared Error:\", mean_squared_error(y_test, xgb_preds))\n",
        "print(\"Mean Absolute Error:\", mean_absolute_error(y_test, xgb_preds))\n",
        "print(\"R-squared Score:\", r2_score(y_test, xgb_preds))\n",
        "\n",
        "# CatBoost Regression\n",
        "cat_reg = catb.CatBoostRegressor()\n",
        "cat_reg.fit(X_train, y_train)\n",
        "cat_preds = cat_reg.predict(X_test)\n",
        "\n",
        "# Evaluate performance\n",
        "print(\"CatBoost Regression:\")\n",
        "print(\"Mean Squared Error:\", mean_squared_error(y_test, cat_preds))\n",
        "print(\"Mean Absolute Error:\", mean_absolute_error(y_test, cat_preds))\n",
        "print(\"R-squared Score:\", r2_score(y_test, cat_preds))\n",
        "\n",
        "# LightGBM Regression\n",
        "lgb_reg = lgb.LGBMRegressor()\n",
        "lgb_reg.fit(X_train, y_train)\n",
        "lgb_preds = lgb_reg.predict(X_test)\n",
        "\n",
        "# Evaluate performance\n",
        "print(\"LightGBM Regression:\")\n",
        "print(\"Mean Squared Error:\", mean_squared_error(y_test, lgb_preds))\n",
        "print(\"Mean Absolute Error:\", mean_absolute_error(y_test, lgb_preds))\n",
        "print(\"R-squared Score:\", r2_score(y_test, lgb_preds))"
      ]
    }
  ]
}