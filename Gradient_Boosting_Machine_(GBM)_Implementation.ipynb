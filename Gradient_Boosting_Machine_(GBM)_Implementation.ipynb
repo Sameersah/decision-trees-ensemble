{
  "nbformat": 4,
  "nbformat_minor": 0,
  "metadata": {
    "colab": {
      "provenance": [],
      "authorship_tag": "ABX9TyOstPj4g0d1LuB66s9HTtq6",
      "include_colab_link": true
    },
    "kernelspec": {
      "name": "python3",
      "display_name": "Python 3"
    },
    "language_info": {
      "name": "python"
    }
  },
  "cells": [
    {
      "cell_type": "markdown",
      "metadata": {
        "id": "view-in-github",
        "colab_type": "text"
      },
      "source": [
        "<a href=\"https://colab.research.google.com/github/Sameersah/decision-trees-ensemble/blob/main/Gradient_Boosting_Machine_(GBM)_Implementation.ipynb\" target=\"_parent\"><img src=\"https://colab.research.google.com/assets/colab-badge.svg\" alt=\"Open In Colab\"/></a>"
      ]
    },
    {
      "cell_type": "markdown",
      "source": [
        "Gradient Boosting Machine (GBM) Implementation\n",
        "\n",
        "GBM builds an additive model in a forward stage-wise manner. The idea is to fit a sequence of weak learners (e.g., decision trees) to minimize a loss function.\n",
        "\n",
        "Steps:\n",
        "Define the Loss Function: Use Mean Squared Error for simplicity in regression tasks.\n",
        "Initialize the Model: Start with a baseline model (e.g., the mean of the target variable for regression).\n",
        "Iterative Training:\n",
        "Compute residuals (errors) from the current model predictions.\n",
        "Train a weak learner (decision tree) on the residuals.\n",
        "Update the model by adding the predictions of the weak learner multiplied by a learning rate.\n",
        "Repeat: Continue adding weak learners until convergence or a stopping criterion."
      ],
      "metadata": {
        "id": "-cWlY-J5wPH2"
      }
    },
    {
      "cell_type": "code",
      "execution_count": 2,
      "metadata": {
        "colab": {
          "base_uri": "https://localhost:8080/"
        },
        "id": "rUpKV30DvMYA",
        "outputId": "fcfabae1-8e7b-4bc0-ff3d-f71719a51e5e"
      },
      "outputs": [
        {
          "output_type": "stream",
          "name": "stdout",
          "text": [
            "Mean Squared Error: 1.3230540144415044\n"
          ]
        }
      ],
      "source": [
        "import numpy as np\n",
        "import pandas as pd\n",
        "from sklearn.tree import DecisionTreeRegressor\n",
        "\n",
        "class GradientBoostingMachine:\n",
        "    def __init__(self, n_estimators=100, learning_rate=0.1, max_depth=3):\n",
        "        self.n_estimators = n_estimators\n",
        "        self.learning_rate = learning_rate\n",
        "        self.max_depth = max_depth\n",
        "        self.models = []\n",
        "        self.initial_value = None\n",
        "\n",
        "    def fit(self, X, y):\n",
        "        self.initial_value = np.mean(y)\n",
        "        current_predictions = np.full(y.shape, self.initial_value)\n",
        "        for _ in range(self.n_estimators):\n",
        "            residuals = y - current_predictions\n",
        "            tree = DecisionTreeRegressor(max_depth=self.max_depth)\n",
        "            tree.fit(X, residuals)\n",
        "            self.models.append(tree)\n",
        "            current_predictions += self.learning_rate * tree.predict(X)\n",
        "\n",
        "    def predict(self, X):\n",
        "        predictions = np.full((X.shape[0],), self.initial_value)\n",
        "        for tree in self.models:\n",
        "            predictions += self.learning_rate * tree.predict(X)\n",
        "        return predictions\n",
        "\n",
        "# Demonstration with a simple dataset\n",
        "from sklearn.datasets import make_regression\n",
        "from sklearn.metrics import mean_squared_error\n",
        "\n",
        "# Generate a simple regression dataset\n",
        "X, y = make_regression(n_samples=100, n_features=1, noise=0.1, random_state=42)\n",
        "\n",
        "# Split into training and testing sets\n",
        "from sklearn.model_selection import train_test_split\n",
        "X_train, X_test, y_train, y_test = train_test_split(X, y, test_size=0.2, random_state=42)\n",
        "\n",
        "# Train the GBM model\n",
        "gbm = GradientBoostingMachine(n_estimators=50, learning_rate=0.1, max_depth=3)\n",
        "gbm.fit(X_train, y_train)\n",
        "\n",
        "# Predictions and evaluation\n",
        "y_pred = gbm.predict(X_test)\n",
        "print(\"Mean Squared Error:\", mean_squared_error(y_test, y_pred))\n"
      ]
    }
  ]
}